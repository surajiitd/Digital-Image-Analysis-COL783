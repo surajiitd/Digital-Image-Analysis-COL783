{
 "cells": [
  {
   "cell_type": "code",
   "execution_count": 1,
   "id": "40b64b27",
   "metadata": {},
   "outputs": [
    {
     "ename": "SyntaxError",
     "evalue": "invalid syntax (2961522966.py, line 2)",
     "output_type": "error",
     "traceback": [
      "\u001b[0;36m  Input \u001b[0;32mIn [1]\u001b[0;36m\u001b[0m\n\u001b[0;31m    b =\u001b[0m\n\u001b[0m        ^\u001b[0m\n\u001b[0;31mSyntaxError\u001b[0m\u001b[0;31m:\u001b[0m invalid syntax\n"
     ]
    }
   ],
   "source": [
    "a = (2,3)\n",
    "b = "
   ]
  },
  {
   "cell_type": "code",
   "execution_count": 21,
   "id": "aeb94e5b",
   "metadata": {},
   "outputs": [
    {
     "name": "stdout",
     "output_type": "stream",
     "text": [
      "[[199 199 199 191 191]\n",
      " [197 197 197 196 196]\n",
      " [196 196 196 196 196]]\n",
      "[199, 199, 199, 191, 191, 197, 197, 197, 196, 196, 196, 196, 196, 196, 196]\n"
     ]
    }
   ],
   "source": [
    "import cv2\n",
    "import numpy as np\n",
    "img = cv2.imread(\"inp1_forest.png\")\n",
    "# a = img.shape\n",
    "# arr = np.zeros(a)\n",
    "# b = (a[0]*2,a[1]*2)\n",
    "# print(a)\n",
    "# print(b)\n",
    "# print(arr.shape)\n",
    "\n",
    "p = img[0:3,1:6,0]\n",
    "print(p)\n",
    "p = [x for row in p for x in row ]\n",
    "print(p)"
   ]
  },
  {
   "cell_type": "code",
   "execution_count": 6,
   "id": "53eadd39",
   "metadata": {},
   "outputs": [
    {
     "name": "stdout",
     "output_type": "stream",
     "text": [
      "1\n",
      "2\n",
      "3\n"
     ]
    }
   ],
   "source": [
    "for i in range(1,4):\n",
    "    print(i)"
   ]
  },
  {
   "cell_type": "code",
   "execution_count": 12,
   "id": "def5e3c9",
   "metadata": {},
   "outputs": [
    {
     "name": "stdout",
     "output_type": "stream",
     "text": [
      "(2.2, 24.54)\n",
      "(2, 24)\n"
     ]
    }
   ],
   "source": [
    "from math import *\n",
    "a = (2.2,24.54)\n",
    "print(a)\n",
    "a = (floor(a[0]),floor(a[1]))\n",
    "print(a)"
   ]
  },
  {
   "cell_type": "code",
   "execution_count": 26,
   "id": "12ca8e13",
   "metadata": {},
   "outputs": [
    {
     "name": "stdout",
     "output_type": "stream",
     "text": [
      "[1, 2, 3, 4, 5, 6, 'suraj', [0.2, 0.4]]\n",
      "8\n"
     ]
    }
   ],
   "source": [
    "l = [1,2,3]\n",
    "la = [4,5,6,\"suraj\",[0.2, 0.4]]\n",
    "l.extend(la)\n",
    "print(l)\n",
    "print(len(l))"
   ]
  },
  {
   "cell_type": "code",
   "execution_count": 16,
   "id": "c7a4ff34",
   "metadata": {},
   "outputs": [
    {
     "name": "stdout",
     "output_type": "stream",
     "text": [
      "[0, 1, 2]\n",
      "[4, 5, 6, 7]\n",
      "<class 'list'>\n",
      "[[0. 1. 2.]\n",
      " [0. 1. 2.]\n",
      " [0. 1. 2.]\n",
      " [0. 1. 2.]]\n",
      "[[4 4 4]\n",
      " [5 5 5]\n",
      " [6 6 6]\n",
      " [7 7 7]]\n",
      "<class 'numpy.float32'>\n"
     ]
    }
   ],
   "source": [
    "x = list(range(0,3))\n",
    "y = list(range(4,8))\n",
    "print(x)\n",
    "print(y)\n",
    "print(type(x))\n",
    "[X,Y] = np.meshgrid(x,y)\n",
    "X = X.astype(np.float32)\n",
    "print(X)\n",
    "print(Y)\n",
    "print(type(X[0,0]))"
   ]
  },
  {
   "cell_type": "code",
   "execution_count": 38,
   "id": "8169d59c",
   "metadata": {},
   "outputs": [
    {
     "name": "stdout",
     "output_type": "stream",
     "text": [
      "[[0 1]\n",
      " [2 1]]\n",
      "[[5.000e+00 2.480e+02]\n",
      " [6.640e+02 1.285e+04]]\n"
     ]
    }
   ],
   "source": [
    "from pyflann import *\n",
    "import numpy as np\n",
    "\n",
    "dataset = np.array(\n",
    "    [[1., 1, 1, 2, 3],\n",
    "     [10, 10, 10, 3, 2],\n",
    "     [100, 100, 2, 30, 1]\n",
    "     ])\n",
    "testset = np.array(\n",
    "    [[1., 1, 1, 1, 1],\n",
    "     [90, 90, 10, 10, 1]\n",
    "     ])\n",
    "flann = FLANN()\n",
    "result, dists = flann.nn(\n",
    "    dataset, testset, 2, algorithm=\"kmeans\", branching=32, iterations=7, checks=16)\n",
    "print(result)\n",
    "print( dists)\n",
    "\n",
    "# dataset = np.random.rand(10000, 128)\n",
    "# testset = np.random.rand(1000, 128)\n",
    "# flann = FLANN()\n",
    "# result, dists = flann.nn(\n",
    "#     dataset, testset, 5, algorithm=\"kmeans\", branching=32, iterations=7, checks=16)\n",
    "# print(result)\n",
    "# print( dists)"
   ]
  },
  {
   "cell_type": "code",
   "execution_count": 37,
   "id": "1d24b445",
   "metadata": {},
   "outputs": [
    {
     "name": "stdout",
     "output_type": "stream",
     "text": [
      "[[  1.   1.   1.   2.   3.]\n",
      " [ 10.  10.  10.   3.   2.]\n",
      " [100. 100.   2.  30.   1.]]\n",
      "[[  1.   1.   1.   2.   3.]\n",
      " [ 10.  10.  10.   3.   2.]\n",
      " [100. 100.   2.  30.   1.]]\n"
     ]
    }
   ],
   "source": [
    "lst = [[1., 1, 1, 2, 3],\n",
    "     [10, 10, 10, 3, 2],\n",
    "     [100, 100, 2, 30, 1]\n",
    "     ]\n",
    "print(np.array(lst))\n",
    "dataset = np.array(\n",
    "    [[1., 1, 1, 2, 3],\n",
    "     [10, 10, 10, 3, 2],\n",
    "     [100, 100, 2, 30, 1]\n",
    "     ])\n",
    "print(dataset)"
   ]
  },
  {
   "cell_type": "code",
   "execution_count": 39,
   "id": "081c8a50",
   "metadata": {},
   "outputs": [
    {
     "name": "stdout",
     "output_type": "stream",
     "text": [
      "[1, 2]\n"
     ]
    }
   ],
   "source": [
    "a = [1,2,3,43,5,6]\n",
    "print(a[0:2])"
   ]
  },
  {
   "cell_type": "code",
   "execution_count": 51,
   "id": "f4b36e32",
   "metadata": {},
   "outputs": [
    {
     "name": "stdout",
     "output_type": "stream",
     "text": [
      "[1 2 5 6]\n"
     ]
    }
   ],
   "source": [
    "a = np.array([[1,2],[5,6]])\n",
    "a = np.reshape(a,(-1))\n",
    "print(a)\n",
    "#np.append(a,np.array([1,2,3]))"
   ]
  },
  {
   "cell_type": "code",
   "execution_count": 43,
   "id": "027cb517",
   "metadata": {},
   "outputs": [
    {
     "name": "stdout",
     "output_type": "stream",
     "text": [
      "20.085536923187668\n"
     ]
    }
   ],
   "source": [
    "a = exp(3)\n",
    "print(a)"
   ]
  },
  {
   "cell_type": "code",
   "execution_count": 49,
   "id": "26a4349e",
   "metadata": {},
   "outputs": [
    {
     "name": "stdout",
     "output_type": "stream",
     "text": [
      "[1. 1. 1. 1. 1. 1. 1. 1. 1. 1.]\n"
     ]
    }
   ],
   "source": [
    "a = np.ones((4,))\n",
    "b = np.ones((6,))\n",
    "a = np.append(a,b)\n",
    "print(a)"
   ]
  },
  {
   "cell_type": "code",
   "execution_count": 60,
   "id": "e4569179",
   "metadata": {},
   "outputs": [
    {
     "name": "stdout",
     "output_type": "stream",
     "text": [
      "4\n",
      "[[4.9e-324 9.9e-324 1.5e-323]\n",
      " [1.0e+000 2.0e+000 3.0e+000]\n",
      " [1.0e+000 2.0e+000 3.0e+000]\n",
      " [1.0e+000 2.0e+000 3.0e+000]]\n"
     ]
    }
   ],
   "source": [
    "a = np.empty((3))\n",
    "# newrow = [1, 2, 3]\n",
    "# A = numpy.vstack([A, newrow])\n",
    "for _ in range(3):\n",
    "    a = np.vstack([a,np.array([1,2,3])])\n",
    "print(len(a))\n",
    "print(a)"
   ]
  },
  {
   "cell_type": "code",
   "execution_count": null,
   "id": "6e5733fb",
   "metadata": {},
   "outputs": [],
   "source": [
    "a = "
   ]
  }
 ],
 "metadata": {
  "kernelspec": {
   "display_name": "Python 3 (ipykernel)",
   "language": "python",
   "name": "python3"
  },
  "language_info": {
   "codemirror_mode": {
    "name": "ipython",
    "version": 3
   },
   "file_extension": ".py",
   "mimetype": "text/x-python",
   "name": "python",
   "nbconvert_exporter": "python",
   "pygments_lexer": "ipython3",
   "version": "3.9.5"
  }
 },
 "nbformat": 4,
 "nbformat_minor": 5
}
