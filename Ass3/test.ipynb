{
 "cells": [
  {
   "cell_type": "code",
   "execution_count": 1,
   "id": "a1ae525b",
   "metadata": {},
   "outputs": [
    {
     "ename": "SyntaxError",
     "evalue": "invalid syntax (2961522966.py, line 2)",
     "output_type": "error",
     "traceback": [
      "\u001b[0;36m  Input \u001b[0;32mIn [1]\u001b[0;36m\u001b[0m\n\u001b[0;31m    b =\u001b[0m\n\u001b[0m        ^\u001b[0m\n\u001b[0;31mSyntaxError\u001b[0m\u001b[0;31m:\u001b[0m invalid syntax\n"
     ]
    }
   ],
   "source": [
    "a = (2,3)\n",
    "b = "
   ]
  },
  {
   "cell_type": "code",
   "execution_count": 21,
   "id": "e461f1db",
   "metadata": {},
   "outputs": [
    {
     "name": "stdout",
     "output_type": "stream",
     "text": [
      "[[199 199 199 191 191]\n",
      " [197 197 197 196 196]\n",
      " [196 196 196 196 196]]\n",
      "[199, 199, 199, 191, 191, 197, 197, 197, 196, 196, 196, 196, 196, 196, 196]\n"
     ]
    }
   ],
   "source": [
    "import cv2\n",
    "import numpy as np\n",
    "img = cv2.imread(\"inp1_forest.png\")\n",
    "# a = img.shape\n",
    "# arr = np.zeros(a)\n",
    "# b = (a[0]*2,a[1]*2)\n",
    "# print(a)\n",
    "# print(b)\n",
    "# print(arr.shape)\n",
    "\n",
    "p = img[0:3,1:6,0]\n",
    "print(p)\n",
    "p = [x for row in p for x in row ]\n",
    "print(p)"
   ]
  },
  {
   "cell_type": "code",
   "execution_count": 6,
   "id": "47f4a6a1",
   "metadata": {},
   "outputs": [
    {
     "name": "stdout",
     "output_type": "stream",
     "text": [
      "1\n",
      "2\n",
      "3\n"
     ]
    }
   ],
   "source": [
    "for i in range(1,4):\n",
    "    print(i)"
   ]
  },
  {
   "cell_type": "code",
   "execution_count": 12,
   "id": "8ff7d427",
   "metadata": {},
   "outputs": [
    {
     "name": "stdout",
     "output_type": "stream",
     "text": [
      "(2.2, 24.54)\n",
      "(2, 24)\n"
     ]
    }
   ],
   "source": [
    "from math import *\n",
    "a = (2.2,24.54)\n",
    "print(a)\n",
    "a = (floor(a[0]),floor(a[1]))\n",
    "print(a)"
   ]
  },
  {
   "cell_type": "code",
   "execution_count": 26,
   "id": "3d43721c",
   "metadata": {},
   "outputs": [
    {
     "name": "stdout",
     "output_type": "stream",
     "text": [
      "[1, 2, 3, 4, 5, 6, 'suraj', [0.2, 0.4]]\n",
      "8\n"
     ]
    }
   ],
   "source": [
    "l = [1,2,3]\n",
    "la = [4,5,6,\"suraj\",[0.2, 0.4]]\n",
    "l.extend(la)\n",
    "print(l)\n",
    "print(len(l))"
   ]
  },
  {
   "cell_type": "code",
   "execution_count": 16,
   "id": "b2cc9f57",
   "metadata": {},
   "outputs": [
    {
     "name": "stdout",
     "output_type": "stream",
     "text": [
      "[0, 1, 2]\n",
      "[4, 5, 6, 7]\n",
      "<class 'list'>\n",
      "[[0. 1. 2.]\n",
      " [0. 1. 2.]\n",
      " [0. 1. 2.]\n",
      " [0. 1. 2.]]\n",
      "[[4 4 4]\n",
      " [5 5 5]\n",
      " [6 6 6]\n",
      " [7 7 7]]\n",
      "<class 'numpy.float32'>\n"
     ]
    }
   ],
   "source": [
    "x = list(range(0,3))\n",
    "y = list(range(4,8))\n",
    "print(x)\n",
    "print(y)\n",
    "print(type(x))\n",
    "[X,Y] = np.meshgrid(x,y)\n",
    "X = X.astype(np.float32)\n",
    "print(X)\n",
    "print(Y)\n",
    "print(type(X[0,0]))"
   ]
  },
  {
   "cell_type": "code",
   "execution_count": 70,
   "id": "3d1e66de",
   "metadata": {},
   "outputs": [
    {
     "name": "stdout",
     "output_type": "stream",
     "text": [
      "[[0 1]\n",
      " [2 1]]\n",
      "[[5.000e+00 2.480e+02]\n",
      " [6.640e+02 1.285e+04]]\n"
     ]
    }
   ],
   "source": [
    "# from pyflann import *\n",
    "import pyflann\n",
    "import numpy as np\n",
    "\n",
    "dataset = np.array(\n",
    "    [[1., 1, 1, 2, 3],\n",
    "     [10, 10, 10, 3, 2],\n",
    "     [100, 100, 2, 30, 1]\n",
    "     ])\n",
    "testset = np.array(\n",
    "    [[1., 1, 1, 1, 1],\n",
    "     [90, 90, 10, 10, 1]\n",
    "     ])\n",
    "\n",
    "pyflann.set_distance_type(distance_type='euclidean')\n",
    "flann = FLANN()\n",
    "result, dists = flann.nn(\n",
    "    dataset, testset, 2, algorithm=\"kmeans\", branching=32, iterations=7, checks=16)\n",
    "\n",
    "print(result)\n",
    "print( dists)\n",
    "\n",
    "# dataset = np.random.rand(10000, 128)\n",
    "# testset = np.random.rand(1000, 128)\n",
    "# flann = FLANN()\n",
    "# result, dists = flann.nn(\n",
    "#     dataset, testset, 5, algorithm=\"kmeans\", branching=32, iterations=7, checks=16)\n",
    "# print(result)\n",
    "# print( dists)"
   ]
  },
  {
   "cell_type": "code",
   "execution_count": 37,
   "id": "865d3574",
   "metadata": {},
   "outputs": [
    {
     "name": "stdout",
     "output_type": "stream",
     "text": [
      "[[  1.   1.   1.   2.   3.]\n",
      " [ 10.  10.  10.   3.   2.]\n",
      " [100. 100.   2.  30.   1.]]\n",
      "[[  1.   1.   1.   2.   3.]\n",
      " [ 10.  10.  10.   3.   2.]\n",
      " [100. 100.   2.  30.   1.]]\n"
     ]
    }
   ],
   "source": [
    "lst = [[1., 1, 1, 2, 3],\n",
    "     [10, 10, 10, 3, 2],\n",
    "     [100, 100, 2, 30, 1]\n",
    "     ]\n",
    "print(np.array(lst))\n",
    "dataset = np.array(\n",
    "    [[1., 1, 1, 2, 3],\n",
    "     [10, 10, 10, 3, 2],\n",
    "     [100, 100, 2, 30, 1]\n",
    "     ])\n",
    "print(dataset)"
   ]
  },
  {
   "cell_type": "code",
   "execution_count": 39,
   "id": "bbcb0f8c",
   "metadata": {},
   "outputs": [
    {
     "name": "stdout",
     "output_type": "stream",
     "text": [
      "[1, 2]\n"
     ]
    }
   ],
   "source": [
    "a = [1,2,3,43,5,6]\n",
    "print(a[0:2])"
   ]
  },
  {
   "cell_type": "code",
   "execution_count": 51,
   "id": "a7d8eeb7",
   "metadata": {},
   "outputs": [
    {
     "name": "stdout",
     "output_type": "stream",
     "text": [
      "[1 2 5 6]\n"
     ]
    }
   ],
   "source": [
    "a = np.array([[1,2],[5,6]])\n",
    "a = np.reshape(a,(-1))\n",
    "print(a)\n",
    "#np.append(a,np.array([1,2,3]))"
   ]
  },
  {
   "cell_type": "code",
   "execution_count": 43,
   "id": "bd298785",
   "metadata": {},
   "outputs": [
    {
     "name": "stdout",
     "output_type": "stream",
     "text": [
      "20.085536923187668\n"
     ]
    }
   ],
   "source": [
    "a = exp(3)\n",
    "print(a)"
   ]
  },
  {
   "cell_type": "code",
   "execution_count": 49,
   "id": "610de785",
   "metadata": {},
   "outputs": [
    {
     "name": "stdout",
     "output_type": "stream",
     "text": [
      "[1. 1. 1. 1. 1. 1. 1. 1. 1. 1.]\n"
     ]
    }
   ],
   "source": [
    "a = np.ones((4,))\n",
    "b = np.ones((6,))\n",
    "a = np.append(a,b)\n",
    "print(a)"
   ]
  },
  {
   "cell_type": "code",
   "execution_count": 60,
   "id": "a5fded06",
   "metadata": {},
   "outputs": [
    {
     "name": "stdout",
     "output_type": "stream",
     "text": [
      "4\n",
      "[[4.9e-324 9.9e-324 1.5e-323]\n",
      " [1.0e+000 2.0e+000 3.0e+000]\n",
      " [1.0e+000 2.0e+000 3.0e+000]\n",
      " [1.0e+000 2.0e+000 3.0e+000]]\n"
     ]
    }
   ],
   "source": [
    "a = np.empty((3))\n",
    "# newrow = [1, 2, 3]\n",
    "# A = numpy.vstack([A, newrow])\n",
    "for _ in range(3):\n",
    "    a = np.vstack([a,np.array([1,2,3])])\n",
    "print(len(a))\n",
    "print(a)"
   ]
  },
  {
   "cell_type": "code",
   "execution_count": 62,
   "id": "54876979",
   "metadata": {},
   "outputs": [
    {
     "ename": "TypeError",
     "evalue": "unsupported operand type(s) for -: 'list' and 'int'",
     "output_type": "error",
     "traceback": [
      "\u001b[0;31m---------------------------------------------------------------------------\u001b[0m",
      "\u001b[0;31mTypeError\u001b[0m                                 Traceback (most recent call last)",
      "Input \u001b[0;32mIn [62]\u001b[0m, in \u001b[0;36m<cell line: 2>\u001b[0;34m()\u001b[0m\n\u001b[1;32m      1\u001b[0m a \u001b[38;5;241m=\u001b[39m [\u001b[38;5;241m4\u001b[39m,\u001b[38;5;241m5\u001b[39m,\u001b[38;5;241m6\u001b[39m]\n\u001b[0;32m----> 2\u001b[0m a \u001b[38;5;241m=\u001b[39m \u001b[43ma\u001b[49m\u001b[38;5;241;43m-\u001b[39;49m\u001b[38;5;241;43m2\u001b[39;49m\n\u001b[1;32m      3\u001b[0m \u001b[38;5;28mprint\u001b[39m(a)\n",
      "\u001b[0;31mTypeError\u001b[0m: unsupported operand type(s) for -: 'list' and 'int'"
     ]
    }
   ],
   "source": [
    "a = [4,5,6]\n",
    "a = a-2\n",
    "print(a)"
   ]
  },
  {
   "cell_type": "code",
   "execution_count": 63,
   "id": "1c0a4f62",
   "metadata": {},
   "outputs": [],
   "source": [
    "\n",
    "def knnsearch(patches_db, input_patches_p,k):\n",
    "\n",
    "    NNs = []\n",
    "    Dist = []\n",
    "    for i in range(len(input_patches_p)):\n",
    "        patch = input_patches_p[i]\n",
    "        distances = np.linalg.norm(patches_db-patch, axis=1)\n",
    "\n",
    "        min_index = np.argpartition(distances,k)\n",
    "        min_index = min_index[:k]\n",
    "        NNs.append(min_index)\n",
    "        Dist.append(distances[min_index])\n",
    "    return np.array(NNs),np.array(Dist)\n",
    "\n",
    "dataset = np.array(\n",
    "    [[1., 1, 1, 2, 3],\n",
    "     [10, 10, 10, 3, 2],\n",
    "     [100, 100, 2, 30, 1]\n",
    "     ])\n",
    "testset = np.array(\n",
    "    [[1., 1, 1, 1, 1],\n",
    "     [90, 90, 10, 10, 1]\n",
    "     ])\n",
    "1., 1, 1, 2, 3]"
   ]
  },
  {
   "cell_type": "code",
   "execution_count": 64,
   "id": "e980a073",
   "metadata": {},
   "outputs": [
    {
     "name": "stdout",
     "output_type": "stream",
     "text": [
      "[[0 1]\n",
      " [2 1]]\n",
      "[[  2.23606798  15.74801575]\n",
      " [ 25.76819745 113.35784049]]\n"
     ]
    }
   ],
   "source": [
    "NNs, Dist = knnsearch(dataset, testset, 2)\n",
    "print(NNs)\n",
    "print(Dist)"
   ]
  },
  {
   "cell_type": "code",
   "execution_count": null,
   "id": "bc38bd55",
   "metadata": {},
   "outputs": [],
   "source": []
  }
 ],
 "metadata": {
  "kernelspec": {
   "display_name": "Python 3 (ipykernel)",
   "language": "python",
   "name": "python3"
  },
  "language_info": {
   "codemirror_mode": {
    "name": "ipython",
    "version": 3
   },
   "file_extension": ".py",
   "mimetype": "text/x-python",
   "name": "python",
   "nbconvert_exporter": "python",
   "pygments_lexer": "ipython3",
   "version": "3.9.5"
  }
 },
 "nbformat": 4,
 "nbformat_minor": 5
}
