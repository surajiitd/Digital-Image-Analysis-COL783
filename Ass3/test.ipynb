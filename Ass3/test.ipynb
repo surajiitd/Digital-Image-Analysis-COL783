{
 "cells": [
  {
   "cell_type": "code",
   "execution_count": 1,
   "id": "b42879ab",
   "metadata": {},
   "outputs": [
    {
     "ename": "SyntaxError",
     "evalue": "invalid syntax (2961522966.py, line 2)",
     "output_type": "error",
     "traceback": [
      "\u001b[0;36m  Input \u001b[0;32mIn [1]\u001b[0;36m\u001b[0m\n\u001b[0;31m    b =\u001b[0m\n\u001b[0m        ^\u001b[0m\n\u001b[0;31mSyntaxError\u001b[0m\u001b[0;31m:\u001b[0m invalid syntax\n"
     ]
    }
   ],
   "source": [
    "a = (2,3)\n",
    "b = "
   ]
  },
  {
   "cell_type": "code",
   "execution_count": 21,
   "id": "c1f2dd72",
   "metadata": {},
   "outputs": [
    {
     "name": "stdout",
     "output_type": "stream",
     "text": [
      "[[199 199 199 191 191]\n",
      " [197 197 197 196 196]\n",
      " [196 196 196 196 196]]\n",
      "[199, 199, 199, 191, 191, 197, 197, 197, 196, 196, 196, 196, 196, 196, 196]\n"
     ]
    }
   ],
   "source": [
    "import cv2\n",
    "import numpy as np\n",
    "img = cv2.imread(\"inp1_forest.png\")\n",
    "# a = img.shape\n",
    "# arr = np.zeros(a)\n",
    "# b = (a[0]*2,a[1]*2)\n",
    "# print(a)\n",
    "# print(b)\n",
    "# print(arr.shape)\n",
    "\n",
    "p = img[0:3,1:6,0]\n",
    "print(p)\n",
    "p = [x for row in p for x in row ]\n",
    "print(p)"
   ]
  },
  {
   "cell_type": "code",
   "execution_count": 6,
   "id": "753370e4",
   "metadata": {},
   "outputs": [
    {
     "name": "stdout",
     "output_type": "stream",
     "text": [
      "1\n",
      "2\n",
      "3\n"
     ]
    }
   ],
   "source": [
    "for i in range(1,4):\n",
    "    print(i)"
   ]
  },
  {
   "cell_type": "code",
   "execution_count": 12,
   "id": "3585ac17",
   "metadata": {},
   "outputs": [
    {
     "name": "stdout",
     "output_type": "stream",
     "text": [
      "(2.2, 24.54)\n",
      "(2, 24)\n"
     ]
    }
   ],
   "source": [
    "from math import *\n",
    "a = (2.2,24.54)\n",
    "print(a)\n",
    "a = (floor(a[0]),floor(a[1]))\n",
    "print(a)"
   ]
  },
  {
   "cell_type": "code",
   "execution_count": 26,
   "id": "fc551824",
   "metadata": {},
   "outputs": [
    {
     "name": "stdout",
     "output_type": "stream",
     "text": [
      "[1, 2, 3, 4, 5, 6, 'suraj', [0.2, 0.4]]\n",
      "8\n"
     ]
    }
   ],
   "source": [
    "l = [1,2,3]\n",
    "la = [4,5,6,\"suraj\",[0.2, 0.4]]\n",
    "l.extend(la)\n",
    "print(l)\n",
    "print(len(l))"
   ]
  },
  {
   "cell_type": "code",
   "execution_count": 16,
   "id": "daeba2b4",
   "metadata": {},
   "outputs": [
    {
     "name": "stdout",
     "output_type": "stream",
     "text": [
      "[0, 1, 2]\n",
      "[4, 5, 6, 7]\n",
      "<class 'list'>\n",
      "[[0. 1. 2.]\n",
      " [0. 1. 2.]\n",
      " [0. 1. 2.]\n",
      " [0. 1. 2.]]\n",
      "[[4 4 4]\n",
      " [5 5 5]\n",
      " [6 6 6]\n",
      " [7 7 7]]\n",
      "<class 'numpy.float32'>\n"
     ]
    }
   ],
   "source": [
    "x = list(range(0,3))\n",
    "y = list(range(4,8))\n",
    "print(x)\n",
    "print(y)\n",
    "print(type(x))\n",
    "[X,Y] = np.meshgrid(x,y)\n",
    "X = X.astype(np.float32)\n",
    "print(X)\n",
    "print(Y)\n",
    "print(type(X[0,0]))"
   ]
  },
  {
   "cell_type": "code",
   "execution_count": 3,
   "id": "c7ab00f9",
   "metadata": {},
   "outputs": [
    {
     "name": "stdout",
     "output_type": "stream",
     "text": [
      "[[0 1]\n",
      " [2 1]]\n",
      "[[0.10557281 0.11526976]\n",
      " [0.01056123 0.14729308]]\n",
      "\n",
      "pyflann\n",
      "[[0 1]\n",
      " [2 1]]\n",
      "[[  1.33333333  23.42424242]\n",
      " [ 16.38596491 132.1025641 ]]\n"
     ]
    }
   ],
   "source": [
    "\n",
    "from pyflann import *\n",
    "import pyflann\n",
    "import numpy as np\n",
    "# from scipy.spatial import distance\n",
    "import scipy\n",
    "dataset = np.array(\n",
    "    [[1., 1, 1, 2, 3],\n",
    "     [10, 10, 10, 3, 2],\n",
    "     [100, 100, 2, 30, 1]\n",
    "     ])\n",
    "testset = np.array(\n",
    "    [[1., 1, 1, 1, 1],\n",
    "     [90, 90, 10, 10, 1]\n",
    "     ])\n",
    "\n",
    "a = testset[0]\n",
    "b = dataset[0]\n",
    "ssd = np.sum((a-b)**2)\n",
    "\n",
    "def kneareset_neighbour_pyflann(patches_database, query_patches, k, distance_metric = 'euclidean'):\n",
    "    \n",
    "    pyflann.set_distance_type(distance_type='cs')\n",
    "    flann = FLANN()\n",
    "    k_idx, k_dist = flann.nn( patches_database, query_patches, k, algorithm=\"kmeans\", branching=32, iterations=7, checks=16)\n",
    "    \n",
    "    return k_idx, k_dist\n",
    "\n",
    "\n",
    "#Ref: https://docs.scipy.org/doc/scipy/reference/generated/scipy.spatial.distance.cdist.html\n",
    "def kneareset_neighbour_scipy(patches_database, query_patches, k, distance_metric = 'euclidean'):\n",
    "    Dist = scipy.spatial.distance.cdist(patches_database, query_patches, distance_metric)\n",
    "    k_idx = np.argpartition(Dist, range(k), axis=0)[:k, :]\n",
    "    k_dist = Dist[np.argpartition(Dist, range(k), axis=0)[:k, :], np.arange(Dist.shape[1])[None, :]]\n",
    "    return k_idx.T, k_dist.T\n",
    "\n",
    "NNs, Dist = kneareset_neighbour(dataset, testset, k=2, distance_metric = 'cosine')\n",
    "print(NNs)\n",
    "print(Dist)\n",
    "\n",
    "\n",
    "print(\"\\npyflann\")\n",
    "NNs, Dist = kneareset_neighbour_pyflann(dataset, testset, k=2, distance_metric = 'euclidean')\n",
    "print(NNs)\n",
    "print(Dist)\n",
    "\n",
    "# print(result)\n",
    "\n",
    "# print( dists)\n",
    "\n",
    "# dataset = np.random.rand(10000, 128)\n",
    "# testset = np.random.rand(1000, 128)\n",
    "# flann = FLANN()\n",
    "# result, dists = flann.nn(\n",
    "#     dataset, testset, 5, algorithm=\"kmeans\", branching=32, iterations=7, checks=16)\n",
    "# print(result)\n",
    "# print( dists)"
   ]
  },
  {
   "cell_type": "code",
   "execution_count": 136,
   "id": "44cd4301",
   "metadata": {},
   "outputs": [
    {
     "name": "stdout",
     "output_type": "stream",
     "text": [
      "[1. 1. 1. 1. 1.] [1. 1. 1. 2. 3.]\n",
      "8.0\n",
      "8.94427190999916\n",
      "2.23606797749979\n",
      "ssd  = 5.0\n",
      "cosine sim =  0.10557280900008414\n"
     ]
    }
   ],
   "source": [
    "from numpy.linalg import norm\n",
    "a = testset[0]\n",
    "b = dataset[0]\n",
    "print(a,b)\n",
    "ssd = np.sum((a-b)**2)\n",
    "cosine_sim = np.dot(a,b)/(norm(a)*norm(b))\n",
    "print(np.dot(a,b))\n",
    "print(norm(a)*norm(b))\n",
    "print(norm(a))\n",
    "print(\"ssd  =\",ssd)\n",
    "print(\"cosine sim = \",1-cosine_sim)"
   ]
  },
  {
   "cell_type": "code",
   "execution_count": 94,
   "id": "bf2aea34",
   "metadata": {},
   "outputs": [
    {
     "name": "stdout",
     "output_type": "stream",
     "text": [
      "A: [1 1 1 1 1]\n",
      "B: [1 1 1 2 3]\n",
      "0.9457416090031758\n"
     ]
    }
   ],
   "source": [
    "\n",
    "# import required libraries\n",
    "import numpy as np\n",
    "from numpy.linalg import norm\n",
    "from math import *\n",
    "# define two lists or array\n",
    "A = np.array([1,1,1,1,1])\n",
    "# A = A/5\n",
    "B = np.array([1,1,1,2,3])\n",
    "# B = B/5\n",
    "print(\"A:\", A)\n",
    "print(\"B:\", B)\n",
    " \n",
    "# compute cosine similarity\n",
    "cosine = np.dot(A,B)/(norm(A)*norm(B))\n",
    "print(sqrt(cosine))"
   ]
  },
  {
   "cell_type": "code",
   "execution_count": 95,
   "id": "1b9b45a1",
   "metadata": {},
   "outputs": [
    {
     "name": "stdout",
     "output_type": "stream",
     "text": [
      "[[2.22044605e-16]\n",
      " [1.05572809e-01]]\n",
      "[[1 1 1 1 1]\n",
      " [1 1 1 2 3]]\n"
     ]
    }
   ],
   "source": [
    "from scipy.spatial import distance\n",
    "XA=np.array([A,B])\n",
    "XB=np.array([A])\n",
    "distances = scipy.spatial.distance.cdist(XA, XB, 'cosine')\n",
    "print(distances)\n",
    "print(XA)"
   ]
  },
  {
   "cell_type": "code",
   "execution_count": null,
   "id": "18ad4fcb",
   "metadata": {},
   "outputs": [],
   "source": [
    "Y = cdist(XA, XB, 'euclidean')\n"
   ]
  },
  {
   "cell_type": "code",
   "execution_count": 37,
   "id": "e3c01960",
   "metadata": {},
   "outputs": [
    {
     "name": "stdout",
     "output_type": "stream",
     "text": [
      "[[  1.   1.   1.   2.   3.]\n",
      " [ 10.  10.  10.   3.   2.]\n",
      " [100. 100.   2.  30.   1.]]\n",
      "[[  1.   1.   1.   2.   3.]\n",
      " [ 10.  10.  10.   3.   2.]\n",
      " [100. 100.   2.  30.   1.]]\n"
     ]
    }
   ],
   "source": [
    "lst = [[1., 1, 1, 2, 3],\n",
    "     [10, 10, 10, 3, 2],\n",
    "     [100, 100, 2, 30, 1]\n",
    "     ]\n",
    "print(np.array(lst))\n",
    "dataset = np.array(\n",
    "    [[1., 1, 1, 2, 3],\n",
    "     [10, 10, 10, 3, 2],\n",
    "     [100, 100, 2, 30, 1]\n",
    "     ])\n",
    "print(dataset)"
   ]
  },
  {
   "cell_type": "code",
   "execution_count": 39,
   "id": "ad787571",
   "metadata": {},
   "outputs": [
    {
     "name": "stdout",
     "output_type": "stream",
     "text": [
      "[1, 2]\n"
     ]
    }
   ],
   "source": [
    "a = [1,2,3,43,5,6]\n",
    "print(a[0:2])"
   ]
  },
  {
   "cell_type": "code",
   "execution_count": 51,
   "id": "ce22b700",
   "metadata": {},
   "outputs": [
    {
     "name": "stdout",
     "output_type": "stream",
     "text": [
      "[1 2 5 6]\n"
     ]
    }
   ],
   "source": [
    "a = np.array([[1,2],[5,6]])\n",
    "a = np.reshape(a,(-1))\n",
    "print(a)\n",
    "#np.append(a,np.array([1,2,3]))"
   ]
  },
  {
   "cell_type": "code",
   "execution_count": 43,
   "id": "d6d7d154",
   "metadata": {},
   "outputs": [
    {
     "name": "stdout",
     "output_type": "stream",
     "text": [
      "20.085536923187668\n"
     ]
    }
   ],
   "source": [
    "a = exp(3)\n",
    "print(a)"
   ]
  },
  {
   "cell_type": "code",
   "execution_count": 49,
   "id": "9552183d",
   "metadata": {},
   "outputs": [
    {
     "name": "stdout",
     "output_type": "stream",
     "text": [
      "[1. 1. 1. 1. 1. 1. 1. 1. 1. 1.]\n"
     ]
    }
   ],
   "source": [
    "a = np.ones((4,))\n",
    "b = np.ones((6,))\n",
    "a = np.append(a,b)\n",
    "print(a)"
   ]
  },
  {
   "cell_type": "code",
   "execution_count": 60,
   "id": "fbd1ae39",
   "metadata": {},
   "outputs": [
    {
     "name": "stdout",
     "output_type": "stream",
     "text": [
      "4\n",
      "[[4.9e-324 9.9e-324 1.5e-323]\n",
      " [1.0e+000 2.0e+000 3.0e+000]\n",
      " [1.0e+000 2.0e+000 3.0e+000]\n",
      " [1.0e+000 2.0e+000 3.0e+000]]\n"
     ]
    }
   ],
   "source": [
    "a = np.empty((3))\n",
    "# newrow = [1, 2, 3]\n",
    "# A = numpy.vstack([A, newrow])\n",
    "for _ in range(3):\n",
    "    a = np.vstack([a,np.array([1,2,3])])\n",
    "print(len(a))\n",
    "print(a)"
   ]
  },
  {
   "cell_type": "code",
   "execution_count": 62,
   "id": "dcffb808",
   "metadata": {
    "scrolled": true
   },
   "outputs": [
    {
     "ename": "TypeError",
     "evalue": "unsupported operand type(s) for -: 'list' and 'int'",
     "output_type": "error",
     "traceback": [
      "\u001b[0;31m---------------------------------------------------------------------------\u001b[0m",
      "\u001b[0;31mTypeError\u001b[0m                                 Traceback (most recent call last)",
      "Input \u001b[0;32mIn [62]\u001b[0m, in \u001b[0;36m<cell line: 2>\u001b[0;34m()\u001b[0m\n\u001b[1;32m      1\u001b[0m a \u001b[38;5;241m=\u001b[39m [\u001b[38;5;241m4\u001b[39m,\u001b[38;5;241m5\u001b[39m,\u001b[38;5;241m6\u001b[39m]\n\u001b[0;32m----> 2\u001b[0m a \u001b[38;5;241m=\u001b[39m \u001b[43ma\u001b[49m\u001b[38;5;241;43m-\u001b[39;49m\u001b[38;5;241;43m2\u001b[39;49m\n\u001b[1;32m      3\u001b[0m \u001b[38;5;28mprint\u001b[39m(a)\n",
      "\u001b[0;31mTypeError\u001b[0m: unsupported operand type(s) for -: 'list' and 'int'"
     ]
    }
   ],
   "source": [
    "a = [4,5,6]\n",
    "a = a-2\n",
    "print(a)"
   ]
  },
  {
   "cell_type": "code",
   "execution_count": 14,
   "id": "6a1a0bdf",
   "metadata": {},
   "outputs": [],
   "source": [
    "from sklearn.neighbors import NearestNeighbors\n",
    "from sklearn.neighbors import KDTree\n",
    "import numpy as np\n",
    "from math import *\n",
    "import scipy\n",
    "from numpy.linalg import norm\n",
    "import pyflann\n",
    "from pyflann import *\n",
    "\n",
    "\n",
    "def kneareset_neighbour_pyflann(patches_database, query_patches, k, distance_metric = 'euclidean'):\n",
    "    \n",
    "    pyflann.set_distance_type(distance_type=distance_metric)\n",
    "    flann = FLANN()\n",
    "    k_idx, k_dist = flann.nn( patches_database, query_patches, k, algorithm=\"kmeans\", branching=32, iterations=7, checks=16)\n",
    "    \n",
    "    return k_idx, k_dist\n",
    "\n",
    "\n",
    "#Ref: https://docs.scipy.org/doc/scipy/reference/generated/scipy.spatial.distance.cdist.html\n",
    "def kneareset_neighbour_scipy(patches_database, query_patches, k, distance_metric = 'euclidean'):\n",
    "    Dist = scipy.spatial.distance.cdist(patches_database, query_patches, distance_metric)\n",
    "    k_idx = np.argpartition(Dist, range(k), axis=0)[:k, :]\n",
    "    k_dist = Dist[np.argpartition(Dist, range(k), axis=0)[:k, :], np.arange(Dist.shape[1])[None, :]]\n",
    "    return k_idx.T, k_dist.T\n",
    "\n",
    "def knnsearch_cosine(patches_db, input_patches_p,k):\n",
    "\n",
    "    NNs = []\n",
    "    Dist = []\n",
    "    for i in range(len(input_patches_p)):\n",
    "        patch = input_patches_p[i]\n",
    "        patchdb_norm = np.linalg.norm(patches_db, axis=1)\n",
    "        dot = np.dot(patches_db,patch)\n",
    "        temp = dot / patchdb_norm\n",
    "        temp = temp / np.linalg.norm(patch)\n",
    "        temp = 1-temp\n",
    "\n",
    "        min_index = np.argpartition(temp,k)\n",
    "        min_index = min_index[:k]\n",
    "        NNs.append(min_index)\n",
    "        Dist.append(temp[min_index])\n",
    "    NNs = np.array(NNs)\n",
    "    Dist = np.array(Dist)\n",
    "    return NNs,Dist\n",
    "\n",
    "def knnsearch_scikit(patches_db, input_patches,k, custom_distance_metric):\n",
    "    nbrs = NearestNeighbors(n_neighbors=k, algorithm='ball_tree', metric = custom_distance_metric).fit(patches_db)\n",
    "    distances, indices = nbrs.kneighbors(input_patches)\n",
    "    return indices, distances  #NNs,Dist\n",
    "\n",
    "def knnsearch_scikit_kdtree(patches_db, input_patches,k, distance_metric = 'euclidean'):\n",
    "    kdt = KDTree(patches_db, leaf_size=30, metric=distance_metric)\n",
    "    distances, indices = kdt.query(input_patches, k=2, return_distance=True)\n",
    "    return indices, distances  #NNs,Dist\n",
    "\n",
    "\n",
    "dataset = np.array(\n",
    "    [[1., 1, 1, 2, 3],\n",
    "     [10, 10, 10, 3, 2],\n",
    "     [100, 100, 2, 30, 1]\n",
    "     ])\n",
    "testset = np.array(\n",
    "    [[1., 1, 1, 1, 1],\n",
    "     [90, 90, 10, 10, 1]\n",
    "     ])\n",
    "\n",
    "def euclidean_distance(x,y):\n",
    "    return sqrt(np.sum((x-y)**2))\n",
    "\n",
    "def cosine_distance(x,y):\n",
    "    return 1-(np.dot(x,y)/(norm(x)*norm(y)))\n",
    "    \n",
    "\n"
   ]
  },
  {
   "cell_type": "code",
   "execution_count": 18,
   "id": "c7a30117",
   "metadata": {
    "scrolled": true
   },
   "outputs": [
    {
     "name": "stdout",
     "output_type": "stream",
     "text": [
      "Euclidean: (array([[0, 1],\n",
      "       [2, 1]]), array([[  2.23606798,  15.74801575],\n",
      "       [ 25.76819745, 113.35784049]]))\n",
      "Euclidean: (array([[0, 1],\n",
      "       [2, 1]]), array([[  2.23606798,  15.74801575],\n",
      "       [ 25.76819745, 113.35784049]]))\n",
      "\n",
      "Cosine: (array([[0, 1],\n",
      "       [2, 1]]), array([[0.10557281, 0.11526976],\n",
      "       [0.01056123, 0.14729308]]))\n",
      "Cosine: (array([[0, 1],\n",
      "       [2, 1]]), array([[0.10557281, 0.11526976],\n",
      "       [0.01056123, 0.14729308]]))\n",
      "Random: (array([[0, 1],\n",
      "       [2, 1]]), array([[0.10557281, 0.11526976],\n",
      "       [0.01056123, 0.14729308]]))\n"
     ]
    }
   ],
   "source": [
    "print(\"Euclidean:\", knnsearch_scikit(dataset,testset,2,custom_distance_metric=euclidean_distance))\n",
    "print(\"Euclidean:\", kneareset_neighbour_scipy(dataset, testset, 2, distance_metric = 'euclidean') )\n",
    "print(\"\\nCosine:\", knnsearch_scikit(dataset,testset,2,custom_distance_metric=cosine_distance))\n",
    "print(\"Cosine:\",knnsearch_cosine(dataset,testset,2))\n",
    "print(\"Random:\", knnsearch_scikit(dataset,testset,2,cosine_distance))\n"
   ]
  },
  {
   "cell_type": "code",
   "execution_count": 1,
   "id": "84a15d5f",
   "metadata": {},
   "outputs": [
    {
     "ename": "NameError",
     "evalue": "name 'dataset' is not defined",
     "output_type": "error",
     "traceback": [
      "\u001b[0;31m---------------------------------------------------------------------------\u001b[0m",
      "\u001b[0;31mNameError\u001b[0m                                 Traceback (most recent call last)",
      "Input \u001b[0;32mIn [1]\u001b[0m, in \u001b[0;36m<cell line: 12>\u001b[0;34m()\u001b[0m\n\u001b[1;32m     10\u001b[0m     distances, indices \u001b[38;5;241m=\u001b[39m nbrs\u001b[38;5;241m.\u001b[39mkneighbors(input_patches)\n\u001b[1;32m     11\u001b[0m     \u001b[38;5;28;01mreturn\u001b[39;00m indices, distances\n\u001b[0;32m---> 12\u001b[0m \u001b[38;5;28mprint\u001b[39m(\u001b[38;5;124m\"\u001b[39m\u001b[38;5;124mRandom:\u001b[39m\u001b[38;5;124m\"\u001b[39m, knnsearch_scikit(\u001b[43mdataset\u001b[49m,testset,\u001b[38;5;241m2\u001b[39m,euclidean_distance))\n",
      "\u001b[0;31mNameError\u001b[0m: name 'dataset' is not defined"
     ]
    }
   ],
   "source": [
    "def euclidean_distance(x,y):\n",
    "    return sqrt(np.sum((x-y)**2))\n",
    "\n",
    "\n",
    "def cosine_distance(x,y):\n",
    "    return 1-(np.dot(x,y)/(norm(x)*norm(y)))\n",
    "\n",
    "def knnsearch_scikit(patches_db, input_patches,k, custom_distance_metric):\n",
    "    nbrs = NearestNeighbors(n_neighbors=k, algorithm='ball_tree', metric = custom_distance_metric).fit(patches_db)\n",
    "    distances, indices = nbrs.kneighbors(input_patches)\n",
    "    return indices, distances\n",
    "print(\"Random:\", knnsearch_scikit(dataset,testset,2,euclidean_distance))"
   ]
  },
  {
   "cell_type": "code",
   "execution_count": 9,
   "id": "de10d34c",
   "metadata": {},
   "outputs": [
    {
     "name": "stdout",
     "output_type": "stream",
     "text": [
      "flip0 shape =  (262, 484, 3)\n",
      "flip1 shape =  (262, 484, 3)\n",
      "rotated90 shape =  (484, 262, 3)\n",
      "rotated180 shape =  (262, 484, 3)\n",
      "\n",
      "AFTER\n",
      "\n",
      "flip0 shape =  (262, 484, 3)\n",
      "flip1 shape =  (262, 484, 3)\n",
      "rotated90 shape =  (262, 484, 3)\n",
      "rotated180 shape =  (262, 484, 3)\n",
      "[[[  3 201 101]\n",
      "  [  2 201 102]\n",
      "  [  1 201 102]\n",
      "  [  2 201 101]\n",
      "  [  2 201 101]]\n",
      "\n",
      " [[  0 199 100]\n",
      "  [233 198  99]\n",
      "  [240 199  99]\n",
      "  [240 199 100]\n",
      "  [ 22 199 100]]\n",
      "\n",
      " [[231 199 100]\n",
      "  [253 198  99]\n",
      "  [254 198 100]\n",
      "  [255 198 100]\n",
      "  [233 199 100]]\n",
      "\n",
      " [[255 198 101]\n",
      "  [255 198 100]\n",
      "  [254 198 101]\n",
      "  [253 199 101]\n",
      "  [253 198 101]]\n",
      "\n",
      " [[254 198 102]\n",
      "  [254 198 102]\n",
      "  [255 198 102]\n",
      "  [254 198 102]\n",
      "  [253 199 101]]]\n",
      "[[[  3 201 101]\n",
      "  [  2 201 102]\n",
      "  [  1 201 102]\n",
      "  [  2 201 101]\n",
      "  [  2 201 101]]\n",
      "\n",
      " [[  0 199 100]\n",
      "  [233 198  99]\n",
      "  [240 199  99]\n",
      "  [240 199 100]\n",
      "  [ 22 199 100]]\n",
      "\n",
      " [[231 199 100]\n",
      "  [253 198  99]\n",
      "  [254 198 100]\n",
      "  [255 198 100]\n",
      "  [233 199 100]]\n",
      "\n",
      " [[255 198 101]\n",
      "  [255 198 100]\n",
      "  [254 198 101]\n",
      "  [253 199 101]\n",
      "  [253 198 101]]\n",
      "\n",
      " [[254 198 102]\n",
      "  [254 198 102]\n",
      "  [255 198 102]\n",
      "  [254 198 102]\n",
      "  [253 199 101]]]\n",
      "[[[  3 201 101]\n",
      "  [  2 201 102]\n",
      "  [  1 201 102]\n",
      "  [  2 201 101]\n",
      "  [  2 201 101]]\n",
      "\n",
      " [[  0 199 100]\n",
      "  [233 198  99]\n",
      "  [240 199  99]\n",
      "  [240 199 100]\n",
      "  [ 22 199 100]]\n",
      "\n",
      " [[231 199 100]\n",
      "  [253 198  99]\n",
      "  [254 198 100]\n",
      "  [255 198 100]\n",
      "  [233 199 100]]\n",
      "\n",
      " [[255 198 101]\n",
      "  [255 198 100]\n",
      "  [254 198 101]\n",
      "  [253 199 101]\n",
      "  [253 198 101]]\n",
      "\n",
      " [[254 198 102]\n",
      "  [254 198 102]\n",
      "  [255 198 102]\n",
      "  [254 198 102]\n",
      "  [253 199 101]]]\n",
      "[[[  3 201 101]\n",
      "  [  2 201 102]\n",
      "  [  1 201 102]\n",
      "  [  2 201 101]\n",
      "  [  2 201 101]]\n",
      "\n",
      " [[  0 199 100]\n",
      "  [233 198  99]\n",
      "  [240 199  99]\n",
      "  [240 199 100]\n",
      "  [ 22 199 100]]\n",
      "\n",
      " [[231 199 100]\n",
      "  [253 198  99]\n",
      "  [254 198 100]\n",
      "  [255 198 100]\n",
      "  [233 199 100]]\n",
      "\n",
      " [[255 198 101]\n",
      "  [255 198 100]\n",
      "  [254 198 101]\n",
      "  [253 199 101]\n",
      "  [253 198 101]]\n",
      "\n",
      " [[254 198 102]\n",
      "  [254 198 102]\n",
      "  [255 198 102]\n",
      "  [254 198 102]\n",
      "  [253 199 101]]]\n",
      "[[[  3 201 101]\n",
      "  [  2 201 102]\n",
      "  [  1 201 102]\n",
      "  [  2 201 101]\n",
      "  [  2 201 101]]\n",
      "\n",
      " [[  0 199 100]\n",
      "  [233 198  99]\n",
      "  [240 199  99]\n",
      "  [240 199 100]\n",
      "  [ 22 199 100]]\n",
      "\n",
      " [[231 199 100]\n",
      "  [253 198  99]\n",
      "  [254 198 100]\n",
      "  [255 198 100]\n",
      "  [233 199 100]]\n",
      "\n",
      " [[255 198 101]\n",
      "  [255 198 100]\n",
      "  [254 198 101]\n",
      "  [253 199 101]\n",
      "  [253 198 101]]\n",
      "\n",
      " [[254 198 102]\n",
      "  [254 198 102]\n",
      "  [255 198 102]\n",
      "  [254 198 102]\n",
      "  [253 199 101]]]\n"
     ]
    }
   ],
   "source": [
    "import cv2\n",
    "import numpy as np\n",
    "img = cv2.imread(\"inp3_building_SR_paper_l1.png\")\n",
    "# print(\"before shape = \", img.shape)\n",
    "# (h, w) = img.shape[:2]\n",
    "# (cX, cY) = (w // 2, h // 2)\n",
    "# M = cv2.getRotationMatrix2D((cX, cY), -180, 1.0)\n",
    "# rotated = cv2.warpAffine(img, M, (w, h))\n",
    "# cv2.imshow(\"Rotated by -180 Degrees\", rotated)\n",
    "# cv2.waitKey()\n",
    "# cv2.destroyAllWindows()\n",
    "# print(\"rotated shape = \",rotated.shape)\n",
    "\n",
    "\n",
    "flip0 = cv2.flip(img,0)\n",
    "flip1 = cv2.flip(img,1)\n",
    "rotated90 = cv2.rotate(img, cv2.ROTATE_90_CLOCKWISE)\n",
    "rotated180 = cv2.rotate(img, cv2.ROTATE_180)\n",
    "\n",
    "print(\"flip0 shape = \", flip0.shape)\n",
    "print(\"flip1 shape = \", flip1.shape)\n",
    "print(\"rotated90 shape = \", rotated90.shape)\n",
    "print(\"rotated180 shape = \", rotated180.shape)\n",
    "\n",
    "flip0_back = cv2.flip(flip0,0)\n",
    "flip1_back = cv2.flip(flip1,1)\n",
    "rotated90_back = cv2.rotate(rotated90, cv2.ROTATE_90_COUNTERCLOCKWISE)\n",
    "rotated180_back = cv2.rotate(rotated180, cv2.ROTATE_180)\n",
    "cv2.imshow(\"hey\",flip0_back)\n",
    "cv2.imshow(\"hey2\",flip1_back)\n",
    "cv2.imshow(\"hey3\",rotated90_back)\n",
    "cv2.imshow(\"hey4\",rotated180_back)\n",
    "cv2.waitKey()\n",
    "cv2.destroyAllWindows()\n",
    "print(\"\\nAFTER\\n\")\n",
    "print(\"flip0 shape = \", flip0_back.shape)\n",
    "print(\"flip1 shape = \", flip1_back.shape)\n",
    "print(\"rotated90 shape = \", rotated90_back.shape)\n",
    "print(\"rotated180 shape = \", rotated180_back.shape)\n",
    "\n",
    "\n",
    "flip0_back = flip0_back.astype('int')\n",
    "flip1_back = flip1_back.astype('int')\n",
    "rotated90_back = rotated90_back.astype('int')\n",
    "rotated180_back = rotated180_back.astype('int')\n",
    "\n",
    "avg_img = (flip0_back + flip1_back + rotated90_back + rotated180_back)//4\n",
    "avg_img = avg_img.astype('uint8')\n",
    "\n",
    "cv2.imshow(\"avg image\",avg_img)\n",
    "cv2.waitKey()\n",
    "cv2.destroyAllWindows()\n",
    "\n",
    "# rotated90 = cv2.rotate(img, cv2.ROTATE_90_CLOCKWISE)\n",
    "# rotated180 = cv2.rotate(src, cv2.ROTATE_180)\n",
    "# rotated90_ = cv2.rotate(src, cv2.ROTATE_90_COUNTERCLOCKWISE)\n",
    "# print(\"rotated shape = \",rotated90.shape)\n",
    "# cv2.imshow(\"hey\",rotated90)\n",
    "# cv2.waitKey()\n",
    "# cv2.destroyAllWindows()"
   ]
  },
  {
   "cell_type": "code",
   "execution_count": null,
   "id": "068e177c",
   "metadata": {},
   "outputs": [],
   "source": [
    "a = []"
   ]
  },
  {
   "cell_type": "code",
   "execution_count": 9,
   "id": "d82beb5f",
   "metadata": {},
   "outputs": [
    {
     "data": {
      "text/plain": [
       "['braycurtis',\n",
       " 'canberra',\n",
       " 'chebyshev',\n",
       " 'cityblock',\n",
       " 'dice',\n",
       " 'euclidean',\n",
       " 'hamming',\n",
       " 'haversine',\n",
       " 'infinity',\n",
       " 'jaccard',\n",
       " 'kulsinski',\n",
       " 'l1',\n",
       " 'l2',\n",
       " 'mahalanobis',\n",
       " 'manhattan',\n",
       " 'matching',\n",
       " 'minkowski',\n",
       " 'p',\n",
       " 'pyfunc',\n",
       " 'rogerstanimoto',\n",
       " 'russellrao',\n",
       " 'seuclidean',\n",
       " 'sokalmichener',\n",
       " 'sokalsneath',\n",
       " 'wminkowski']"
      ]
     },
     "execution_count": 9,
     "metadata": {},
     "output_type": "execute_result"
    }
   ],
   "source": [
    "import sklearn\n",
    "valid_metrics = sorted(sklearn.neighbors.VALID_METRICS['ball_tree'])\n"
   ]
  },
  {
   "cell_type": "code",
   "execution_count": 93,
   "id": "9d8df2f7",
   "metadata": {},
   "outputs": [
    {
     "name": "stdout",
     "output_type": "stream",
     "text": [
      "custom dist matric =  0.11526975646027227\n",
      "35.0\n",
      "39.56008088970496\n",
      "2.23606797749979\n",
      "ssd  = 15.748015748023622\n",
      "cosine sim =  0.11526975646027227\n",
      "248.0\n",
      "3.687817782917155\n",
      "6.2283463615791535e-30\n",
      "6.2283463615791535e-30\n"
     ]
    }
   ],
   "source": [
    "from math import *\n",
    "from numpy.linalg import norm\n",
    "dataset = np.array(\n",
    "    [[1., 1, 1, 2, 3],\n",
    "     [10, 10, 10, 3, 2],\n",
    "     [100, 100, 2, 30, 1]\n",
    "     ])\n",
    "testset = np.array(\n",
    "    [[1., 1, 1, 1, 1],\n",
    "     [90, 90, 10, 10, 1]\n",
    "     ])\n",
    "a = testset[0]\n",
    "b = dataset[1]\n",
    "print(\"custom dist matric = \",cosine_distance(a,b))\n",
    "ssd = sqrt(np.sum((a-b)**2))\n",
    "cosine_sim = np.dot(a,b)/(norm(a)*norm(b))\n",
    "print(np.dot(a,b))\n",
    "print(norm(a)*norm(b))\n",
    "print(norm(a))\n",
    "print(\"ssd  =\",ssd)\n",
    "print(\"cosine sim = \",1-cosine_sim)\n",
    "\n",
    "\n",
    "def distance(p1,p2):\n",
    "    sigma = np.std(p2)\n",
    "    if(sigma==0):\n",
    "        sigma = MIN_STD\n",
    "    ssd =np.sum( np.sum((p1-p2)**2))\n",
    "    dist = exp(-ssd/sigma)\n",
    "    print(ssd)\n",
    "    print(sigma)\n",
    "    print(dist)\n",
    "    return dist\n",
    "print(distance(a,b))"
   ]
  },
  {
   "cell_type": "code",
   "execution_count": 61,
   "id": "06fb0bfe",
   "metadata": {},
   "outputs": [
    {
     "ename": "ValueError",
     "evalue": "Unrecognized metric 'cosine'",
     "output_type": "error",
     "traceback": [
      "\u001b[0;31m---------------------------------------------------------------------------\u001b[0m",
      "\u001b[0;31mKeyError\u001b[0m                                  Traceback (most recent call last)",
      "File \u001b[0;32msklearn/metrics/_dist_metrics.pyx:252\u001b[0m, in \u001b[0;36msklearn.metrics._dist_metrics.DistanceMetric.get_metric\u001b[0;34m()\u001b[0m\n",
      "\u001b[0;31mKeyError\u001b[0m: 'cosine'",
      "\nDuring handling of the above exception, another exception occurred:\n",
      "\u001b[0;31mValueError\u001b[0m                                Traceback (most recent call last)",
      "Input \u001b[0;32mIn [61]\u001b[0m, in \u001b[0;36m<cell line: 1>\u001b[0;34m()\u001b[0m\n\u001b[0;32m----> 1\u001b[0m a,b \u001b[38;5;241m=\u001b[39m  \u001b[43mknnsearch_new2\u001b[49m\u001b[43m(\u001b[49m\u001b[43mdataset\u001b[49m\u001b[43m,\u001b[49m\u001b[43mtestset\u001b[49m\u001b[43m,\u001b[49m\u001b[43mk\u001b[49m\u001b[38;5;241;43m=\u001b[39;49m\u001b[38;5;241;43m2\u001b[39;49m\u001b[43m,\u001b[49m\u001b[43mdistance_metric\u001b[49m\u001b[43m \u001b[49m\u001b[38;5;241;43m=\u001b[39;49m\u001b[43m \u001b[49m\u001b[38;5;124;43m'\u001b[39;49m\u001b[38;5;124;43mcosine\u001b[39;49m\u001b[38;5;124;43m'\u001b[39;49m\u001b[43m)\u001b[49m\n\u001b[1;32m      2\u001b[0m \u001b[38;5;66;03m# a = np.array(a)\u001b[39;00m\n\u001b[1;32m      3\u001b[0m \u001b[38;5;66;03m# b = np.array(b)\u001b[39;00m\n\u001b[1;32m      4\u001b[0m \u001b[38;5;28mprint\u001b[39m(\u001b[38;5;124m\"\u001b[39m\u001b[38;5;124ma = \u001b[39m\u001b[38;5;124m\"\u001b[39m,a)\n",
      "Input \u001b[0;32mIn [58]\u001b[0m, in \u001b[0;36mknnsearch_new2\u001b[0;34m(patches_db, input_patches, k, distance_metric)\u001b[0m\n\u001b[1;32m     30\u001b[0m \u001b[38;5;28;01mdef\u001b[39;00m \u001b[38;5;21mknnsearch_new2\u001b[39m(patches_db, input_patches,k, distance_metric \u001b[38;5;241m=\u001b[39m \u001b[38;5;124m'\u001b[39m\u001b[38;5;124meuclidean\u001b[39m\u001b[38;5;124m'\u001b[39m):\n\u001b[0;32m---> 31\u001b[0m     kdt \u001b[38;5;241m=\u001b[39m \u001b[43mKDTree\u001b[49m\u001b[43m(\u001b[49m\u001b[43mpatches_db\u001b[49m\u001b[43m,\u001b[49m\u001b[43m \u001b[49m\u001b[43mleaf_size\u001b[49m\u001b[38;5;241;43m=\u001b[39;49m\u001b[38;5;241;43m30\u001b[39;49m\u001b[43m,\u001b[49m\u001b[43m \u001b[49m\u001b[43mmetric\u001b[49m\u001b[38;5;241;43m=\u001b[39;49m\u001b[43mdistance_metric\u001b[49m\u001b[43m)\u001b[49m\n\u001b[1;32m     32\u001b[0m     distances, indices \u001b[38;5;241m=\u001b[39m kdt\u001b[38;5;241m.\u001b[39mquery(input_patches, k\u001b[38;5;241m=\u001b[39m\u001b[38;5;241m2\u001b[39m, return_distance\u001b[38;5;241m=\u001b[39m\u001b[38;5;28;01mTrue\u001b[39;00m)\n\u001b[1;32m     33\u001b[0m     \u001b[38;5;28;01mreturn\u001b[39;00m indices, distances\n",
      "File \u001b[0;32msklearn/neighbors/_binary_tree.pxi:966\u001b[0m, in \u001b[0;36msklearn.neighbors._kd_tree.BinaryTree.__init__\u001b[0;34m()\u001b[0m\n",
      "File \u001b[0;32msklearn/metrics/_dist_metrics.pyx:254\u001b[0m, in \u001b[0;36msklearn.metrics._dist_metrics.DistanceMetric.get_metric\u001b[0;34m()\u001b[0m\n",
      "\u001b[0;31mValueError\u001b[0m: Unrecognized metric 'cosine'"
     ]
    }
   ],
   "source": [
    "a,b =  knnsearch_new2(dataset,testset,k=2,distance_metric = 'cosine')\n",
    "# a = np.array(a)\n",
    "# b = np.array(b)\n",
    "print(\"a = \",a)\n",
    "print(\"b = \",b)"
   ]
  },
  {
   "cell_type": "code",
   "execution_count": 64,
   "id": "a2da414f",
   "metadata": {},
   "outputs": [
    {
     "name": "stdout",
     "output_type": "stream",
     "text": [
      "[[  3. 197.]\n",
      " [ 30. 168.]\n",
      " [228.  48.]]\n",
      "[[  0.  29. 229.]\n",
      " [ 29.   0. 216.]\n",
      " [229. 216.   0.]]\n",
      "[[0.89442719 0.41579996]\n",
      " [0.88473024 0.85270692]\n",
      " [0.72068558 0.98943877]]\n"
     ]
    }
   ],
   "source": [
    "import numpy as np\n",
    "from sklearn.metrics import pairwise_distances\n",
    "from sklearn.metrics.pairwise import pairwise_kernels\n",
    "X = np.array(\n",
    "    [[1., 1, 1, 2, 3],\n",
    "     [10, 10, 10, 3, 2],\n",
    "     [100, 100, 2, 30, 1]\n",
    "     ])\n",
    "Y = np.array(\n",
    "    [[1., 1, 1, 1, 1],\n",
    "     [90, 90, 10, 10, 1]\n",
    "     ])\n",
    "print(pairwise_distances(X, Y, metric='manhattan'))\n",
    "# array([[ 4.,  2.],\n",
    "#        [ 7.,  5.],\n",
    "#        [12., 10.]])\n",
    "print( pairwise_distances(X, metric='manhattan'))\n",
    "# array([[0., 3., 8.],\n",
    "#        [3., 0., 5.],\n",
    "#        [8., 5., 0.]])\n",
    "print( pairwise_kernels(X, Y, metric='cosine'))\n",
    "# array([[ 2.,  7.],\n",
    "#        [ 3., 11.],\n",
    "#        [ 5., 18.]])"
   ]
  },
  {
   "cell_type": "code",
   "execution_count": 44,
   "id": "a22309c2",
   "metadata": {},
   "outputs": [
    {
     "name": "stdout",
     "output_type": "stream",
     "text": [
      "[90. 90. 10. 10.  1.] [10. 10. 10.  3.  2.]\n",
      "1932.0\n",
      "2265.7257115546886\n",
      "128.06638903318856\n",
      "ssd  = 113.35784048754634\n",
      "cosine sim =  0.14729307693899707\n"
     ]
    }
   ],
   "source": [
    "from math import *\n",
    "from numpy.linalg import norm\n",
    "a = testset[1]\n",
    "b = dataset[1]\n",
    "print(a,b)\n",
    "ssd = sqrt(np.sum((a-b)**2))\n",
    "cosine_sim = np.dot(a,b)/(norm(a)*norm(b))\n",
    "print(np.dot(a,b))\n",
    "print(norm(a)*norm(b))\n",
    "print(norm(a))\n",
    "print(\"ssd  =\",ssd)\n",
    "print(\"cosine sim = \",1-cosine_sim)"
   ]
  },
  {
   "cell_type": "code",
   "execution_count": 7,
   "id": "565d08f5",
   "metadata": {},
   "outputs": [
    {
     "name": "stdout",
     "output_type": "stream",
     "text": [
      "[[9.e+01 9.e+01 1.e+01 2.e+01 3.e+00]\n",
      " [9.e+02 9.e+02 1.e+02 3.e+01 2.e+00]\n",
      " [9.e+03 9.e+03 2.e+01 3.e+02 1.e+00]]\n"
     ]
    }
   ],
   "source": [
    "dataset = np.array(\n",
    "    [[1., 1, 1, 2, 3],\n",
    "     [10, 10, 10, 3, 2],\n",
    "     [100, 100, 2, 30, 1]\n",
    "     ])\n",
    "testset = np.array(\n",
    "    [[1., 1, 1, 1, 1],\n",
    "     [90, 90, 10, 10, 1]\n",
    "     ])\n",
    "\n",
    "print(dataset*testset[1])"
   ]
  }
 ],
 "metadata": {
  "kernelspec": {
   "display_name": "Python 3 (ipykernel)",
   "language": "python",
   "name": "python3"
  },
  "language_info": {
   "codemirror_mode": {
    "name": "ipython",
    "version": 3
   },
   "file_extension": ".py",
   "mimetype": "text/x-python",
   "name": "python",
   "nbconvert_exporter": "python",
   "pygments_lexer": "ipython3",
   "version": "3.9.5"
  }
 },
 "nbformat": 4,
 "nbformat_minor": 5
}
